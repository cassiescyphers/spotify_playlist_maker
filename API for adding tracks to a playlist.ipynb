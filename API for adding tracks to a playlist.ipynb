{
 "cells": [
  {
   "cell_type": "markdown",
   "metadata": {},
   "source": [
    "# API for adding tracks to a playlist"
   ]
  },
  {
   "cell_type": "code",
   "execution_count": 75,
   "metadata": {},
   "outputs": [],
   "source": [
    "%load_ext autoreload\n",
    "%autoreload 2"
   ]
  },
  {
   "cell_type": "code",
   "execution_count": 76,
   "metadata": {},
   "outputs": [],
   "source": [
    "from spotify_toolbox import *\n",
    "import pydash"
   ]
  },
  {
   "cell_type": "code",
   "execution_count": 102,
   "metadata": {},
   "outputs": [],
   "source": [
    "def get_tracks_for_query(query):\n",
    "    track = sp.search(q=query, type='track', limit=50)\n",
    "    tracks = [track['id'] for track in track['tracks']['items']]\n",
    "    return tracks\n",
    "    \n",
    "def add_track(playlist_id, artist, song, album):\n",
    "    query = f'artist:{artist} track:{song} album:{album}'\n",
    "    tracks = get_tracks_for_query(query)\n",
    "    if len(tracks)==0:\n",
    "        query = f'artist:{artist} track:{song}'\n",
    "        tracks = get_tracks_for_query(query)\n",
    "        if len(tracks)==0:\n",
    "            print('track', query, 'not found. Sad Day')    \n",
    "    else:\n",
    "        tracks = [tracks[0]]\n",
    "        sp.user_playlist_add_tracks(user=username, playlist_id=playlist_id, tracks=tracks)\n",
    "        print('successfully added ', query)"
   ]
  },
  {
   "cell_type": "code",
   "execution_count": 103,
   "metadata": {},
   "outputs": [
    {
     "name": "stdout",
     "output_type": "stream",
     "text": [
      "Creating playlist \"David's BIGLIST\"\n"
     ]
    }
   ],
   "source": [
    "playlist_id = create_playlist(\"David's BIGLIST\")"
   ]
  },
  {
   "cell_type": "code",
   "execution_count": 104,
   "metadata": {},
   "outputs": [
    {
     "name": "stdout",
     "output_type": "stream",
     "text": [
      "successfully added  artist:annie track:chewing gum album:annie\n"
     ]
    }
   ],
   "source": [
    "artist = 'annie'\n",
    "song = 'chewing gum'\n",
    "album = 'annie'\n",
    "\n",
    "add_track(playlist_id, artist, song, album)"
   ]
  },
  {
   "cell_type": "code",
   "execution_count": null,
   "metadata": {},
   "outputs": [],
   "source": []
  }
 ],
 "metadata": {
  "kernelspec": {
   "display_name": "Python 3",
   "language": "python",
   "name": "python3"
  },
  "language_info": {
   "codemirror_mode": {
    "name": "ipython",
    "version": 3
   },
   "file_extension": ".py",
   "mimetype": "text/x-python",
   "name": "python",
   "nbconvert_exporter": "python",
   "pygments_lexer": "ipython3",
   "version": "3.8.2"
  }
 },
 "nbformat": 4,
 "nbformat_minor": 4
}
