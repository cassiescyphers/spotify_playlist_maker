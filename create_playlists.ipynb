{
 "cells": [
  {
   "cell_type": "markdown",
   "metadata": {},
   "source": [
    "# Create Playlists"
   ]
  },
  {
   "cell_type": "markdown",
   "metadata": {},
   "source": [
    "## Setup"
   ]
  },
  {
   "cell_type": "code",
   "execution_count": 1,
   "metadata": {},
   "outputs": [],
   "source": [
    "%load_ext autoreload\n",
    "%autoreload 2"
   ]
  },
  {
   "cell_type": "code",
   "execution_count": 2,
   "metadata": {},
   "outputs": [
    {
     "name": "stderr",
     "output_type": "stream",
     "text": [
      "/Users/cassie/.pyenv/versions/3.8.2/lib/python3.8/site-packages/pandas/compat/__init__.py:117: UserWarning: Could not import the lzma module. Your installed Python is incomplete. Attempting to use lzma compression will result in a RuntimeError.\n",
      "  warnings.warn(msg)\n"
     ]
    }
   ],
   "source": [
    "from spotify_toolbox import *\n",
    "import pydash"
   ]
  },
  {
   "cell_type": "code",
   "execution_count": 13,
   "metadata": {},
   "outputs": [],
   "source": [
    "#spotipy defned, will only return 50 tracks at a time\n",
    "MAX_RESPONSE = 50 \n",
    "\n",
    "#user defined, the total number of loops my function will go through to get track ids. 100*50 = 5000.\n",
    "#increase or decrease to make queries run faster or hella slow.\n",
    "MAX_OFFSET = 100 "
   ]
  },
  {
   "cell_type": "markdown",
   "metadata": {},
   "source": [
    "---\n",
    "# Some Deets\n",
    "\n",
    "I created one function `create_playlist_by_query` that will make the perfect (debatable) playlist given many different inputs. Here are your choices currently:\n",
    "\n",
    "* genre list\n",
    "* start year\n",
    "* end year\n",
    "* track name search (return if track contains a certain word)\n",
    "\n",
    "The API is not super amazing, so you first search by the above. THEN, once those are pulled down, we can filter by audio features or tempo (shown below). \n",
    "\n",
    "\n",
    "The 'load_saved_results' flag will either query spotify directly, or load previously saved tracks from the API search. ie, if you don't want it to take forever and have already ran the year/genre/atrist/album/track query, setting this to true will load the cached results. "
   ]
  },
  {
   "cell_type": "markdown",
   "metadata": {},
   "source": [
    "## Audio Features\n",
    "\n",
    "These are the audio features spotify has that you can query on. Cool."
   ]
  },
  {
   "cell_type": "markdown",
   "metadata": {},
   "source": [
    "https://developer.spotify.com/documentation/web-api/reference/tracks/get-audio-features/\n",
    "\n",
    "* **Mode**: Mode indicates the modality (major or minor) of a track, the type of scale from which its melodic content is derived. Major is represented by 1 and minor is 0\n",
    "* **Acousticness**: A confidence measure from 0.0 to 1.0 of whether the track is acoustic. 1.0 represents high confidence the track is acoustic. \n",
    "* **Danceability**: Danceability describes how suitable a track is for dancing based on a combination of musical elements including tempo, rhythm stability, beat strength, and overall regularity. A value of 0.0 is least danceable and 1.0 is most danceable.\n",
    "* **Energy**: Energy is a measure from 0.0 to 1.0 and represents a perceptual measure of intensity and activity. Typically, energetic tracks feel fast, loud, and noisy. For example, death metal has high energy, while a Bach prelude scores low on the scale. Perceptual features contributing to this attribute include dynamic range, perceived loudness, timbre, onset rate, and general entropy.\n",
    "* **Instramentalness**: Predicts whether a track contains no vocals. “Ooh” and “aah” sounds are treated as instrumental in this context. Rap or spoken word tracks are clearly “vocal”. The closer the instrumentalness value is to 1.0, the greater likelihood the track contains no vocal content. Values above 0.5 are intended to represent instrumental tracks, but confidence is higher as the value approaches 1.0. \n",
    "* **Liveness**: Detects the presence of an audience in the recording. Higher liveness values represent an increased probability that the track was performed live. A value above 0.8 provides strong likelihood that the track is live.                 \n",
    "* **Loudness**: The overall loudness of a track in decibels (dB). Loudness values are averaged across the entire track and are useful for comparing relative loudness of tracks. Loudness is the quality of a sound that is the primary psychological correlate of physical strength (amplitude). Values typical range between -60 and 0 db. \n",
    "* **Speechiness**: Speechiness detects the presence of spoken words in a track. The more exclusively speech-like the recording (e.g. talk show, audio book, poetry), the closer to 1.0 the attribute value. Values above 0.66 describe tracks that are probably made entirely of spoken words. Values between 0.33 and 0.66 describe tracks that may contain both music and speech, either in sections or layered, including such cases as rap music. Values below 0.33 most likely represent music and other non-speech-like tracks.\n",
    "* **Valence**: A measure from 0.0 to 1.0 describing the musical positiveness conveyed by a track. Tracks with high valence sound more positive (e.g. happy, cheerful, euphoric), while tracks with low valence sound more negative (e.g. sad, depressed, angry).\n",
    "\n",
    "* **Tempo**: the tempo. Obviously\n",
    "\n",
    "    \n",
    "    "
   ]
  },
  {
   "cell_type": "markdown",
   "metadata": {},
   "source": [
    "---\n",
    "# Create Playlists"
   ]
  },
  {
   "cell_type": "code",
   "execution_count": 4,
   "metadata": {},
   "outputs": [],
   "source": [
    "def create_playlist_by_query(playlist_name,\n",
    "                             num_tracks,\n",
    "                             query_name, \n",
    "                             genre_list,\n",
    "                             start_year,\n",
    "                             end_year,\n",
    "                             track_search_term,\n",
    "                             load_saved_results=False,\n",
    "                              **audio_features):\n",
    "    \n",
    "    '''\n",
    "    Creates a playlist based on so many query filters. \n",
    "    \n",
    "    inputs:\n",
    "        playlist_name: What you want your playlist name ot be. Note - Spotify does not require unique playlist names.\n",
    "        num_tracks: Number of tracks desired. Playlist tracks will be random if num_tracks is greater than the number\n",
    "                    of tracks returned by the api query and audio feature filtering\n",
    "        query_name: what the query will be saved as in the saved_queries folder\n",
    "        genre_list: a list of genres to query\n",
    "        start_year: obvs\n",
    "        end_year: obvs\n",
    "        track_search_term: a term that you want to appear in the title of each track. \n",
    "        load_saved_results: load cached track ids from the saved_queries folder. Will look for the query saved as query_name\n",
    "        audio features: a dictionary containing any or none of 'tempo_range',\n",
    "                                                                'acousticness_range',\n",
    "                                                                'danceability_range',\n",
    "                                                                'energy_range',\n",
    "                                                                'instrumentalness_range',\n",
    "                                                                'liveness_range',\n",
    "                                                                'loudness_range',\n",
    "                                                                'speechiness_range',\n",
    "                                                                'valence_range',\n",
    "                                                                'popularity_range'\n",
    "                                                                \n",
    "        warning - many combinations of these paramters will result in very small playlists.\n",
    "        \n",
    "    outputs:\n",
    "        tracks_df: dataframe of all tracks returned. Useful for data-mining and other fun times.\n",
    "\n",
    "    '''\n",
    "    \n",
    "    if load_saved_results:\n",
    "        try:\n",
    "            print(f'loading results from {query_name}.pkl')\n",
    "            track_df = load_pickle(os.path.join('saved_queries',f'{query_name}.pkl'))\n",
    "        \n",
    "        except FileNotFoundError:\n",
    "            print(f'saved query {query_name}.pkl not found')\n",
    "            load_saved_results = False\n",
    "            \n",
    "    if not load_saved_results:\n",
    "        track_df = query_for_tracks(genre_list, start_year, end_year, track_search_term)\n",
    "        print(f'saving query results to {query_name}.pkl')\n",
    "        save_pickle(track_df, os.path.join('saved_queries',f'{query_name}.pkl'))\n",
    "    \n",
    "    if len(track_df) > 0:\n",
    "        if audio_features:\n",
    "            track_df = filter_for_audio_features(track_df, **audio_features)\n",
    "        track_ids = list(track_df.id.values)\n",
    "        track_ids = list(np.unique(track_ids))\n",
    "        \n",
    "    print(f'{len(track_ids)} total tracks found')\n",
    "    tracks = random.sample(track_ids, min(num_tracks, len(track_ids)))         \n",
    "    playlist_id = create_playlist(playlist_name)\n",
    "    sp.user_playlist_add_tracks(user=username, playlist_id=playlist_id, tracks=tracks)\n",
    "    \n",
    "    return track_df"
   ]
  },
  {
   "cell_type": "markdown",
   "metadata": {},
   "source": [
    "## Read in a list (maybe not exhaustive?) of all the Spotify genres"
   ]
  },
  {
   "cell_type": "code",
   "execution_count": 7,
   "metadata": {},
   "outputs": [],
   "source": [
    "with open('all_spotify_genres.txt') as f:\n",
    "    all_genres = f.read().split('\\n')"
   ]
  },
  {
   "cell_type": "code",
   "execution_count": 22,
   "metadata": {},
   "outputs": [],
   "source": [
    "#I think these are sorted by popularity??\n",
    "#print(all_genres)"
   ]
  },
  {
   "cell_type": "code",
   "execution_count": 23,
   "metadata": {},
   "outputs": [],
   "source": [
    "genre_list = [genre for genre in all_genres if 'pop' in genre]"
   ]
  },
  {
   "cell_type": "code",
   "execution_count": 24,
   "metadata": {},
   "outputs": [],
   "source": [
    "# so many\n",
    "#print(genre_list)"
   ]
  },
  {
   "cell_type": "markdown",
   "metadata": {},
   "source": [
    "---\n",
    "# Example Queries"
   ]
  },
  {
   "cell_type": "code",
   "execution_count": 22,
   "metadata": {},
   "outputs": [
    {
     "name": "stdout",
     "output_type": "stream",
     "text": [
      "saving query results to pop.pkl\n",
      "59 total tracks found\n",
      "Creating playlist \"happy and poppy\"\n",
      "CPU times: user 17.9 s, sys: 1.67 s, total: 19.5 s\n",
      "Wall time: 2min 47s\n"
     ]
    }
   ],
   "source": [
    "%%time\n",
    "genre_list = ['pop',\n",
    "              'dance pop',\n",
    "              'post-teen pop',\n",
    "              'pop rap',\n",
    "              'pop rock',\n",
    "              'electropop',\n",
    "              'indie pop',\n",
    "              'viral pop',\n",
    "              'indie poptimism',\n",
    "              'hip pop',\n",
    "              'power-pop']\n",
    "\n",
    "start_year = 2015\n",
    "end_year = 2020\n",
    "track_search_term = None\n",
    "\n",
    "audio_features = {'tempo_range': (80,130),\n",
    "                'acousticness_range': (0,1),\n",
    "                'danceability_range': (0,1),\n",
    "                'energy_range': (0,1),\n",
    "                'instrumentalness_range':(0,1),\n",
    "                'liveness_range': (0,1),\n",
    "                'loudness_range': (-15,10),\n",
    "                'speechiness_range': (0,1),\n",
    "                'valence_range': (.5,1),\n",
    "                'popularity_range': (50,100)}\n",
    "\n",
    "playlist_name = 'happy and poppy'\n",
    "query_name = 'pop'\n",
    "\n",
    "tracks_df = create_playlist_by_query(playlist_name=playlist_name,\n",
    "                                     num_tracks=50,\n",
    "                                     query_name=query_name,\n",
    "                                     genre_list=genre_list,\n",
    "                                     start_year=start_year,\n",
    "                                     end_year=end_year,\n",
    "                                     track_search_term=track_search_term,\n",
    "                                     load_saved_results=False,\n",
    "                                     **audio_features)"
   ]
  },
  {
   "cell_type": "markdown",
   "metadata": {},
   "source": [
    "The result: https://open.spotify.com/playlist/0P1eYEIhTq5b8aEcxXrpZ6?si=7TRwCFoCSJaBgtBi8666pQ"
   ]
  },
  {
   "cell_type": "code",
   "execution_count": 37,
   "metadata": {},
   "outputs": [
    {
     "name": "stdout",
     "output_type": "stream",
     "text": [
      "['trap', 'edm', 'electropop', 'electro house', 'trap latino', 'pop edm', 'vapor trap', 'progressive electro house', 'electronica', 'dark trap']\n",
      "loading results from party.pkl\n",
      "271 total tracks found\n",
      "Creating playlist \"ultimate party time\"\n"
     ]
    }
   ],
   "source": [
    "genre_list = [genre for genre in all_genres if any(word in genre for word in ['edm','trap','electro'])][:10]\n",
    "print(genre_list)\n",
    "\n",
    "start_year = 2015\n",
    "end_year = 2020\n",
    "track_search_term = None\n",
    "\n",
    "audio_features = {'tempo_range': (120,220),\n",
    "                'acousticness_range': (0,1),\n",
    "                'danceability_range': (.5,1),\n",
    "                'energy_range': (.5,1),\n",
    "                'instrumentalness_range':(0,1),\n",
    "                'liveness_range': (0,1),\n",
    "                'loudness_range': None,\n",
    "                'speechiness_range': (0,1),\n",
    "                'valence_range': (0,1),\n",
    "                'popularity_range': (0,100)}\n",
    "\n",
    "playlist_name = 'ultimate party time'\n",
    "query_name = 'party'\n",
    "\n",
    "tracks_df = create_playlist_by_query(playlist_name=playlist_name,\n",
    "                                     num_tracks=50,\n",
    "                                     query_name=query_name,\n",
    "                                     genre_list=genre_list,\n",
    "                                     start_year=start_year,\n",
    "                                     end_year=end_year,\n",
    "                                     track_search_term=track_search_term,\n",
    "                                     load_saved_results=True,\n",
    "                                     **audio_features)"
   ]
  },
  {
   "cell_type": "markdown",
   "metadata": {},
   "source": [
    "The result: https://open.spotify.com/playlist/5d5Tzr0SlGVVCGhpWJ0oTv?si=9ScmKZVVSRKMi8ndySc6Tg"
   ]
  },
  {
   "cell_type": "code",
   "execution_count": 55,
   "metadata": {},
   "outputs": [
    {
     "name": "stdout",
     "output_type": "stream",
     "text": [
      "['electropop', 'alternative rock', 'escape room', 'electronica', 'chillwave', 'new rave', 'grave wave', 'electronic rock', 'modern rock', 'dance-punk', 'alternative dance', 'garage rock', 'canadian electropop', 'metropopolis', 'art pop', 'indietronica', 'indie pop', 'neo-synthpop', 'indie rock', 'dance pop', 'french shoegaze', 'rock']\n",
      "saving query results to grimesy.pkl\n",
      "33 total tracks found\n",
      "Creating playlist \"grimesy\"\n"
     ]
    }
   ],
   "source": [
    "#Create a playlist like other artists\n",
    "genres_like = ['grimes', 'M83', 'LCD Soundsystem']\n",
    "responses = [sp.search(q=f'artist:{artist}', type='artist', limit=50) for artist in genres_like]\n",
    "genre_list = list(set(pydash.flatten([response['artists']['items'][0]['genres'] for response in responses])))\n",
    "print(genre_list)\n",
    "\n",
    "start_year = 2005\n",
    "end_year = 2020\n",
    "track_search_term = None\n",
    "\n",
    "audio_features = {'tempo_range': (50,120),\n",
    "                'acousticness_range': (.5,1),\n",
    "                'danceability_range': (0,.5),\n",
    "                'energy_range': (0,1),\n",
    "                'instrumentalness_range':(0,.5),\n",
    "                'liveness_range': (0,1),\n",
    "                'loudness_range': None,\n",
    "                'speechiness_range': (0,1),\n",
    "                'valence_range': (0,1),\n",
    "                'popularity_range': (0,100)}\n",
    "\n",
    "playlist_name = 'grimesy'\n",
    "query_name = 'grimesy'\n",
    "\n",
    "tracks_df = create_playlist_by_query(playlist_name=playlist_name,\n",
    "                                     num_tracks=50,\n",
    "                                     query_name=query_name,\n",
    "                                     genre_list=genre_list,\n",
    "                                     start_year=start_year,\n",
    "                                     end_year=end_year,\n",
    "                                     track_search_term=track_search_term,\n",
    "                                     load_saved_results=False,\n",
    "                                     **audio_features)"
   ]
  },
  {
   "cell_type": "markdown",
   "metadata": {},
   "source": [
    "The result: https://open.spotify.com/playlist/5USuDe1PkUu1MOyM58X1mn?si=ZlKowzaMRHiN6UMzXhqC0w"
   ]
  },
  {
   "cell_type": "markdown",
   "metadata": {},
   "source": [
    "## Tempo "
   ]
  },
  {
   "cell_type": "code",
   "execution_count": 21,
   "metadata": {},
   "outputs": [
    {
     "name": "stdout",
     "output_type": "stream",
     "text": [
      "['pop', 'dance pop', 'rap', 'post-teen pop', 'pop rap', 'rock', 'latin', 'hip hop', 'trap', 'modern rock', 'edm', 'pop rock', 'tropical house', 'reggaeton', 'melodic rap']\n"
     ]
    }
   ],
   "source": [
    "genre_list = all_genres[:15]\n",
    "print(genre_list)\n",
    "\n",
    "start_year = 1900\n",
    "end_year = 2020\n",
    "track_search_term = None"
   ]
  },
  {
   "cell_type": "code",
   "execution_count": 11,
   "metadata": {},
   "outputs": [
    {
     "name": "stdout",
     "output_type": "stream",
     "text": [
      "saving query results to tempo.pkl\n",
      "25 total tracks found\n",
      "Creating playlist \"The AI made me do it - 65 to 75\"\n"
     ]
    }
   ],
   "source": [
    "audio_features = {'tempo_range': (65,75)}\n",
    "\n",
    "playlist_name = 'The AI made me do it - 65 to 75'\n",
    "query_name = 'tempo'\n",
    "\n",
    "tracks_df = create_playlist_by_query(playlist_name=playlist_name,\n",
    "                                     num_tracks=50,\n",
    "                                     query_name=query_name,\n",
    "                                     genre_list=genre_list,\n",
    "                                     start_year=start_year,\n",
    "                                     end_year=end_year,\n",
    "                                     track_search_term=track_search_term,\n",
    "                                     load_saved_results=False,\n",
    "                                     **audio_features)"
   ]
  },
  {
   "cell_type": "markdown",
   "metadata": {},
   "source": [
    "https://open.spotify.com/playlist/5jbjaP4uUa1wnmE4BSKyK9?si=WUzVRIQjQne_SQU3Uw4cfQ"
   ]
  },
  {
   "cell_type": "code",
   "execution_count": 16,
   "metadata": {},
   "outputs": [
    {
     "name": "stdout",
     "output_type": "stream",
     "text": [
      "loading results from tempo.pkl\n",
      "125 total tracks found\n",
      "Creating playlist \"The AI made me do it - 75 to 85\"\n"
     ]
    }
   ],
   "source": [
    "audio_features = {'tempo_range': (75,85)}\n",
    "\n",
    "playlist_name = 'The AI made me do it - 75 to 85'\n",
    "query_name = 'tempo'\n",
    "\n",
    "tracks_df = create_playlist_by_query(playlist_name=playlist_name,\n",
    "                                     num_tracks=50,\n",
    "                                     query_name=query_name,\n",
    "                                     genre_list=genre_list,\n",
    "                                     start_year=start_year,\n",
    "                                     end_year=end_year,\n",
    "                                     track_search_term=track_search_term,\n",
    "                                     load_saved_results=True,\n",
    "                                     **audio_features)"
   ]
  },
  {
   "cell_type": "markdown",
   "metadata": {},
   "source": [
    "https://open.spotify.com/playlist/6NMQQi7lsDbufKGhIwFjna?si=LgdiCnZJSZ2EJnuRX6aaJQ"
   ]
  },
  {
   "cell_type": "code",
   "execution_count": 17,
   "metadata": {},
   "outputs": [
    {
     "name": "stdout",
     "output_type": "stream",
     "text": [
      "loading results from tempo.pkl\n",
      "201 total tracks found\n",
      "Creating playlist \"The AI made me do it - 85 to 95\"\n"
     ]
    }
   ],
   "source": [
    "audio_features = {'tempo_range': (85,95)}\n",
    "\n",
    "playlist_name = 'The AI made me do it - 85 to 95'\n",
    "query_name = 'tempo'\n",
    "\n",
    "tracks_df = create_playlist_by_query(playlist_name=playlist_name,\n",
    "                                     num_tracks=50,\n",
    "                                     query_name=query_name,\n",
    "                                     genre_list=genre_list,\n",
    "                                     start_year=start_year,\n",
    "                                     end_year=end_year,\n",
    "                                     track_search_term=track_search_term,\n",
    "                                     load_saved_results=True,\n",
    "                                     **audio_features)"
   ]
  },
  {
   "cell_type": "markdown",
   "metadata": {},
   "source": [
    "https://open.spotify.com/playlist/729x7EAiKizHatHzAjIbEg?si=8qJzyAtpRcmTM02NoHDXag"
   ]
  },
  {
   "cell_type": "code",
   "execution_count": 18,
   "metadata": {},
   "outputs": [
    {
     "name": "stdout",
     "output_type": "stream",
     "text": [
      "loading results from tempo.pkl\n",
      "285 total tracks found\n",
      "Creating playlist \"The AI made me do it - 95 to 105\"\n"
     ]
    }
   ],
   "source": [
    "audio_features = {'tempo_range': (95,105)}\n",
    "\n",
    "playlist_name = 'The AI made me do it - 95 to 105'\n",
    "query_name = 'tempo'\n",
    "\n",
    "tracks_df = create_playlist_by_query(playlist_name=playlist_name,\n",
    "                                     num_tracks=50,\n",
    "                                     query_name=query_name,\n",
    "                                     genre_list=genre_list,\n",
    "                                     start_year=start_year,\n",
    "                                     end_year=end_year,\n",
    "                                     track_search_term=track_search_term,\n",
    "                                     load_saved_results=True,\n",
    "                                     **audio_features)"
   ]
  },
  {
   "cell_type": "markdown",
   "metadata": {},
   "source": [
    "https://open.spotify.com/playlist/5IIjW3oK3YjGKuvnMVBrUb?si=KrB6PjEMTkKsxcfNo6ByfQ"
   ]
  },
  {
   "cell_type": "code",
   "execution_count": 20,
   "metadata": {},
   "outputs": [
    {
     "name": "stdout",
     "output_type": "stream",
     "text": [
      "loading results from tempo.pkl\n",
      "172 total tracks found\n",
      "Creating playlist \"The AI made me do it - 105 to 115\"\n"
     ]
    }
   ],
   "source": [
    "audio_features = {'tempo_range': (105,115)}\n",
    "\n",
    "playlist_name = 'The AI made me do it - 105 to 115'\n",
    "query_name = 'tempo'\n",
    "\n",
    "tracks_df = create_playlist_by_query(playlist_name=playlist_name,\n",
    "                                     num_tracks=50,\n",
    "                                     query_name=query_name,\n",
    "                                     genre_list=genre_list,\n",
    "                                     start_year=start_year,\n",
    "                                     end_year=end_year,\n",
    "                                     track_search_term=track_search_term,\n",
    "                                     load_saved_results=True,\n",
    "                                     **audio_features)"
   ]
  },
  {
   "cell_type": "markdown",
   "metadata": {},
   "source": [
    "https://open.spotify.com/playlist/4lFZgDWyCjgrzrpmX08E9n?si=BbFSRFg0THalz6igjxsLsg"
   ]
  },
  {
   "cell_type": "code",
   "execution_count": null,
   "metadata": {},
   "outputs": [],
   "source": []
  }
 ],
 "metadata": {
  "kernelspec": {
   "display_name": "Python 3",
   "language": "python",
   "name": "python3"
  },
  "language_info": {
   "codemirror_mode": {
    "name": "ipython",
    "version": 3
   },
   "file_extension": ".py",
   "mimetype": "text/x-python",
   "name": "python",
   "nbconvert_exporter": "python",
   "pygments_lexer": "ipython3",
   "version": "3.8.2"
  }
 },
 "nbformat": 4,
 "nbformat_minor": 4
}
